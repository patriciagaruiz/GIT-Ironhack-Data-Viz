{
 "cells": [
  {
   "cell_type": "markdown",
   "metadata": {},
   "source": [
    "# Scraping Dynamic Content: Selenium"
   ]
  },
  {
   "cell_type": "code",
   "execution_count": 1,
   "metadata": {
    "ExecuteTime": {
     "end_time": "2022-04-24T15:31:23.531766Z",
     "start_time": "2022-04-24T15:31:21.756113Z"
    }
   },
   "outputs": [],
   "source": [
    "from selenium import webdriver\n",
    "from selenium.webdriver.common.keys import Keys\n",
    "from selenium.webdriver.chrome.service import Service\n",
    "import tqdm\n",
    "import pandas as pd\n",
    "import numpy as np\n",
    "import requests\n",
    "from bs4 import BeautifulSoup\n",
    "from datetime import datetime\n",
    "from lxml import etree\n",
    "from selenium.webdriver import ActionChains\n",
    "from selenium.webdriver.common.keys import Keys\n",
    "import time"
   ]
  },
  {
   "cell_type": "code",
   "execution_count": 4,
   "metadata": {
    "ExecuteTime": {
     "end_time": "2022-04-24T15:33:04.468756Z",
     "start_time": "2022-04-24T15:33:02.202839Z"
    }
   },
   "outputs": [],
   "source": [
    "chrome_path = 'C:/chromedriver'\n",
    "ser = Service(chrome_path)\n",
    "webdriver.Chrome(service=ser)\n",
    "driver = webdriver.Chrome(service=ser)"
   ]
  },
  {
   "cell_type": "code",
   "execution_count": null,
   "metadata": {
    "ExecuteTime": {
     "end_time": "2022-04-21T20:06:33.404721Z",
     "start_time": "2022-04-21T20:06:33.395509Z"
    }
   },
   "outputs": [],
   "source": [
    "#driver.close()\n",
    "#driver.quit()"
   ]
  },
  {
   "cell_type": "code",
   "execution_count": 5,
   "metadata": {
    "ExecuteTime": {
     "end_time": "2022-04-24T15:35:17.792276Z",
     "start_time": "2022-04-24T15:33:07.208965Z"
    }
   },
   "outputs": [],
   "source": [
    "url = 'https://www.ibge.gov.br/apps/populacao/projecao/index.html?utm_source=portal&utm_medium=popclock&utm_campaign=novo_popclock'\n",
    "driver.get(url)\n",
    "response = requests.get(url)\n",
    "html = response.content\n",
    "soup = BeautifulSoup(html,'lxml')\n",
    "driver.maximize_window()"
   ]
  },
  {
   "cell_type": "code",
   "execution_count": null,
   "metadata": {
    "ExecuteTime": {
     "end_time": "2022-04-24T15:32:43.978600Z",
     "start_time": "2022-04-24T15:32:43.978600Z"
    }
   },
   "outputs": [],
   "source": [
    "state = driver.find_element(by='id',value = 'seletor_de_uf_lista').text\n",
    "state_list = state.split(' ')"
   ]
  },
  {
   "cell_type": "markdown",
   "metadata": {},
   "source": [
    "# Transform Data"
   ]
  },
  {
   "cell_type": "code",
   "execution_count": null,
   "metadata": {
    "ExecuteTime": {
     "end_time": "2022-04-22T17:56:26.907625Z",
     "start_time": "2022-04-22T17:56:26.847240Z"
    }
   },
   "outputs": [],
   "source": [
    "def generate_pd_dados(sigla_uf,arquivo_name,i):\n",
    "    '''This function generate general data from IBGE by state'''\n",
    "    df_dados = pd.read_csv(f'{arquivo_name}', encoding = 'latin1', sep=';', skiprows=[0,1], nrows = 51)\n",
    "    try:        \n",
    "        df_dados = df_dados.drop(columns=['Unnamed: 20'])\n",
    "    except:\n",
    "        df_dados = df_dados.drop(columns=['Unnamed: 21'])       \n",
    "    df_dados['UF']= sigla_uf\n",
    "    return(df_dados)#    \n",
    "\n",
    "def generate_pd_total(sigla_uf,arquivo_name,i):\n",
    "    '''This function generate total age group data by state'''\n",
    "    df_dados_total = pd.read_csv(f'{arquivo_name}', encoding = 'latin1', sep=';', skiprows=56, nrows = 20)\n",
    "    df_dados_total = df_dados_total.drop(columns=['Unnamed: 52'])       \n",
    "    df_dados_total['Tipo']='Total'\n",
    "    df_dados_total['UF']= sigla_uf\n",
    "    return(df_dados_total)#    \n",
    "\n",
    "def generate_pd_homem(sigla_uf,arquivo_name,i):\n",
    "    '''This function generate male age group data by state'''\n",
    "    df_dados_homem = pd.read_csv(f'{arquivo_name}', encoding = 'latin1', sep=';', skiprows=78, nrows = 20)\n",
    "    df_dados_homem = df_dados_homem.drop(columns=['Unnamed: 52'])      \n",
    "    df_dados_homem['Tipo']='Homem'\n",
    "    df_dados_homem['UF']= sigla_uf\n",
    "    return(df_dados_homem)#    \n",
    "\n",
    "def generate_pd_mulher(sigla_uf,arquivo_name,i):\n",
    "    '''This function generate female age group data by state'''\n",
    "    df_dados_mulher = pd.read_csv(f'{arquivo_name}', encoding = 'latin1', sep=';', skiprows=100, nrows = 20)\n",
    "    df_dados_mulher = df_dados_mulher.drop(columns=['Unnamed: 52'])\n",
    "    df_dados_mulher['Tipo']='Mulher'\n",
    "    df_dados_mulher['UF']= sigla_uf\n",
    "    return(df_dados_mulher)#    \n",
    "\n",
    "def generate_pd_dados_brasil(sigla_uf,arquivo_name,i):\n",
    "    '''This function generate consolidated general data from IBGE (country)'''\n",
    "    df_dados_brasil = pd.read_csv(f'{arquivo_name}', encoding = 'latin1', sep=';', skiprows=123, nrows = 51)\n",
    "    df_dados_brasil = df_dados_brasil.drop(columns=['Unnamed: 20'])\n",
    "    df_dados_brasil['UF']= 'BR'\n",
    "    return(df_dados_brasil)#    \n",
    "\n",
    "def generate_pd_dados_fet_brasil(sigla_uf,arquivo_name,i):\n",
    "    '''This function generate consolidated total age group (country)'''\n",
    "    df_dados_fet_brasil = pd.read_csv(f'{arquivo_name}', encoding = 'latin1', sep=';', skiprows=177, nrows = 20)\n",
    "    df_dados_fet_brasil = df_dados_fet_brasil.drop(columns=['Unnamed: 52'])\n",
    "    df_dados_fet_brasil['Tipo']='Total'\n",
    "    df_dados_fet_brasil['UF']= 'BR'\n",
    "    return(df_dados_fet_brasil)#    \n",
    "\n",
    "def generate_pd_dados_h_brasil(sigla_uf,arquivo_name,i):\n",
    "    '''This function generate consolidated male age group (country)'''\n",
    "    df_dados_h_brasil = pd.read_csv(f'{arquivo_name}', encoding = 'latin1', sep=';', skiprows=199, nrows = 20)\n",
    "    df_dados_h_brasil = df_dados_h_brasil.drop(columns=['Unnamed: 52'])\n",
    "    df_dados_h_brasil['Tipo']='Homem'\n",
    "    df_dados_h_brasil['UF']= 'BR'\n",
    "    return(df_dados_h_brasil)#    \n",
    "\n",
    "def generate_pd_dados_m_brasil(sigla_uf,arquivo_name,i):\n",
    "    '''This function generate consolidated female age group (country)'''\n",
    "    df_dados_m_brasil = pd.read_csv(f'{arquivo_name}', encoding = 'latin1', sep=';', skiprows=221, nrows = 20)\n",
    "    df_dados_m_brasil = df_dados_m_brasil.drop(columns=['Unnamed: 52'])\n",
    "    df_dados_m_brasil['Tipo']='Mulher'\n",
    "    df_dados_m_brasil['UF']= 'BR'\n",
    "    return(df_dados_m_brasil)#    "
   ]
  },
  {
   "cell_type": "markdown",
   "metadata": {},
   "source": [
    "# EXTRACTION: Get Data from IBGE"
   ]
  },
  {
   "cell_type": "code",
   "execution_count": null,
   "metadata": {
    "ExecuteTime": {
     "end_time": "2022-04-22T17:56:22.369598Z",
     "start_time": "2022-04-22T17:53:06.904696Z"
    }
   },
   "outputs": [],
   "source": [
    "sigla_uf = ''\n",
    "arquivo_name = ''\n",
    "for i in range(len(state_list)):\n",
    "    if i>20:\n",
    "        sigla_uf = state_list[i]\n",
    "        i += 1\n",
    "        print(i)\n",
    "        driver.find_element('xpath',f'//*[@id=\"seletor_de_uf_lista\"]/a[{i}]').click()\n",
    "        time.sleep(2.5)\n",
    "        driver.switch_to.frame(driver.find_element('id','gx_csv'))\n",
    "        time.sleep(1.5)\n",
    "        driver.find_element('xpath','/html/body/div[4]/div/textarea').click()  \n",
    "        time.sleep(1.5)\n",
    "        a = ActionChains(driver)    \n",
    "        a.key_down(Keys.CONTROL).send_keys('C').key_up(Keys.CONTROL).perform()  \n",
    "        time.sleep(1.5)\n",
    "        driver.execute_script(\"window.open('');\")\n",
    "        driver.switch_to.window(driver.window_handles[-1])\n",
    "        driver.get(\"https://forms.gle/JJ6DcU8qkS2EVuTF8\")\n",
    "        time.sleep(1.5)\n",
    "        driver.find_element('xpath','/html/body/div/div[2]/form/div[2]/div/div[2]/div/div/div/div[2]/div/div[1]/div[2]/textarea').click()\n",
    "        a.key_down(Keys.CONTROL).send_keys('V').key_up(Keys.CONTROL).perform()\n",
    "        time.sleep(6.0)\n",
    "        arquivo = driver.find_element('xpath','/html/body/div/div[2]/form/div[2]/div/div[2]/div/div/div/div[2]/div/div[1]/div[2]/textarea').get_attribute('data-initial-value')\n",
    "        time.sleep(2.5)\n",
    "        text_file = open(f\"arq{i}.csv\", \"w\")\n",
    "        text_file.write(arquivo)\n",
    "        text_file.close()\n",
    "        arquivo_name = text_file.name\n",
    "        print(arquivo_name)\n",
    "        driver.close()\n",
    "        time.sleep(2.0)\n",
    "        driver.switch_to.window(driver.window_handles[0])\n",
    "        # Transform data by state\n",
    "        df_dados_gerais_aux = generate_pd_dados(sigla_uf,arquivo_name,i)\n",
    "        if i==1:\n",
    "            df_dados_gerais = df_dados_gerais_aux\n",
    "        else: \n",
    "            df_dados_gerais= pd.concat([df_dados_gerais,df_dados_gerais_aux])\n",
    "\n",
    "        df_dados_total_hm_aux = generate_pd_total(sigla_uf,arquivo_name,i)\n",
    "        if i==1:\n",
    "            df_dados_faixa_etaria = df_dados_total_hm_aux\n",
    "        else: \n",
    "            df_dados_faixa_etaria = pd.concat([df_dados_faixa_etaria,df_dados_total_hm_aux])\n",
    "    \n",
    "        df_dados_homem_aux = generate_pd_homem(sigla_uf,arquivo_name,i)\n",
    "        df_dados_faixa_etaria = pd.concat([df_dados_faixa_etaria,df_dados_homem_aux]) \n",
    "\n",
    "        df_dados_mulher_aux = generate_pd_mulher(sigla_uf,arquivo_name,i)\n",
    "        df_dados_faixa_etaria = pd.concat([df_dados_faixa_etaria,df_dados_mulher_aux]) \n",
    "        # Consolidated data - only 1 is necessary (This information exist at the end of each state)\n",
    "        if i==1:\n",
    "            df_dados_brasil = generate_pd_dados_brasil(sigla_uf,arquivo_name,i)\n",
    "            df_dados_gerais= pd.concat([df_dados_gerais,df_dados_brasil])\n",
    "            \n",
    "            df_dados_fet_brasil = generate_pd_dados_fet_brasil(sigla_uf,arquivo_name,i)\n",
    "            df_dados_faixa_etaria = pd.concat([df_dados_faixa_etaria,df_dados_fet_brasil])\n",
    "            \n",
    "            df_dados_h_brasil = generate_pd_dados_h_brasil(sigla_uf,arquivo_name,i)\n",
    "            df_dados_faixa_etaria = pd.concat([df_dados_faixa_etaria,df_dados_h_brasil])\n",
    "            \n",
    "            df_dados_m_brasil= generate_pd_dados_m_brasil(sigla_uf,arquivo_name,i)\n",
    "            df_dados_faixa_etaria = pd.concat([df_dados_faixa_etaria,df_dados_m_brasil])\n",
    "            \n",
    "        time.sleep(2.5)\n"
   ]
  },
  {
   "cell_type": "markdown",
   "metadata": {},
   "source": [
    "# Load Data"
   ]
  },
  {
   "cell_type": "code",
   "execution_count": null,
   "metadata": {
    "ExecuteTime": {
     "end_time": "2022-04-22T17:58:20.350280Z",
     "start_time": "2022-04-22T17:58:20.222877Z"
    }
   },
   "outputs": [],
   "source": [
    "df_dados_faixa_etaria.to_csv('df_dados_faixa_etaria.csv',index=False, sep=';')\n",
    "df_dados_gerais.to_csv('df_dados_gerais.csv',index=False, sep=';')"
   ]
  },
  {
   "cell_type": "code",
   "execution_count": null,
   "metadata": {
    "ExecuteTime": {
     "end_time": "2022-02-02T18:43:39.022978Z",
     "start_time": "2022-02-02T18:43:38.089721Z"
    }
   },
   "outputs": [],
   "source": []
  }
 ],
 "metadata": {
  "kernelspec": {
   "display_name": "Python 3 (ipykernel)",
   "language": "python",
   "name": "python3"
  },
  "language_info": {
   "codemirror_mode": {
    "name": "ipython",
    "version": 3
   },
   "file_extension": ".py",
   "mimetype": "text/x-python",
   "name": "python",
   "nbconvert_exporter": "python",
   "pygments_lexer": "ipython3",
   "version": "3.9.7"
  },
  "toc": {
   "base_numbering": 1,
   "nav_menu": {},
   "number_sections": true,
   "sideBar": true,
   "skip_h1_title": false,
   "title_cell": "Table of Contents",
   "title_sidebar": "Contents",
   "toc_cell": false,
   "toc_position": {},
   "toc_section_display": true,
   "toc_window_display": false
  },
  "varInspector": {
   "cols": {
    "lenName": 16,
    "lenType": 16,
    "lenVar": 40
   },
   "kernels_config": {
    "python": {
     "delete_cmd_postfix": "",
     "delete_cmd_prefix": "del ",
     "library": "var_list.py",
     "varRefreshCmd": "print(var_dic_list())"
    },
    "r": {
     "delete_cmd_postfix": ") ",
     "delete_cmd_prefix": "rm(",
     "library": "var_list.r",
     "varRefreshCmd": "cat(var_dic_list()) "
    }
   },
   "types_to_exclude": [
    "module",
    "function",
    "builtin_function_or_method",
    "instance",
    "_Feature"
   ],
   "window_display": false
  }
 },
 "nbformat": 4,
 "nbformat_minor": 2
}
